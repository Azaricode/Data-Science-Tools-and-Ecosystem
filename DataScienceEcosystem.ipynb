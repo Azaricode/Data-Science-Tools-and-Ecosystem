{
 "cells": [
  {
   "cell_type": "markdown",
   "id": "f0f0f17c-6e9e-44ac-8d96-66c401b48d86",
   "metadata": {},
   "source": [
    "# Data Science Tools and Ecosystem"
   ]
  },
  {
   "cell_type": "markdown",
   "id": "56004f12-df94-4f60-afe7-e3a84f4b3c17",
   "metadata": {},
   "source": [
    "In this notebook, Data Science Tools and Ecosystem are summarized."
   ]
  },
  {
   "cell_type": "markdown",
   "id": "0a0c37aa-128c-42c1-862a-ac79ca31b145",
   "metadata": {},
   "source": [
    "Some of the popular languages that Data scientists use are :\n",
    "1. Python\n",
    "2. R\n",
    "3. SQL\n",
    "4. Java\n",
    "5. C++ etc..;"
   ]
  },
  {
   "cell_type": "markdown",
   "id": "75767364-efdf-4c65-b696-6da26479b403",
   "metadata": {},
   "source": [
    "Some of the commonly used libraries used by Data Scientists include:\n",
    "1. Pandas\n",
    "2. Tensorflow\n",
    "3. NumPy\n",
    "4. Keras\n",
    "5. Pytorch\n",
    "6. SciPy etc...;"
   ]
  },
  {
   "cell_type": "markdown",
   "id": "ac25840e-69f9-47d5-989f-d9d5b5f34e21",
   "metadata": {},
   "source": [
    "|Data Science Tools|\n",
    "|---|\n",
    "|SaS|\n",
    "|Apache Hadoop|\n",
    "|TensorFlow|"
   ]
  },
  {
   "cell_type": "markdown",
   "id": "fbb79718-eaca-4f30-ac54-e84c63f29ea4",
   "metadata": {},
   "source": [
    "### Below are a few examples of evaluating arithmetic expressions in Python.\n"
   ]
  },
  {
   "cell_type": "code",
   "execution_count": 2,
   "id": "ec7d8490-abdc-4ade-a74d-6bf3bb95a0db",
   "metadata": {},
   "outputs": [
    {
     "data": {
      "text/plain": [
       "17"
      ]
     },
     "execution_count": 2,
     "metadata": {},
     "output_type": "execute_result"
    }
   ],
   "source": [
    "#This a simple arithmetic expression to mutiply then add integers\n",
    "(3*4)+5"
   ]
  },
  {
   "cell_type": "code",
   "execution_count": 3,
   "id": "8843e6a8-7644-4e87-8b0a-45111d4f842c",
   "metadata": {},
   "outputs": [
    {
     "data": {
      "text/plain": [
       "3.3333333333333335"
      ]
     },
     "execution_count": 3,
     "metadata": {},
     "output_type": "execute_result"
    }
   ],
   "source": [
    "#This will convert 200 minutes to hours by diving by 60\n",
    "200/60"
   ]
  },
  {
   "cell_type": "markdown",
   "id": "0f85b183-fd5e-4ba7-95ec-8baea32ae5c7",
   "metadata": {},
   "source": [
    "__Objective__\n",
    "* List popular languages for Data Science\n",
    "* List popular libraries for Data Science\n",
    "* List of well-known Data Science Tools\n",
    "* How to provide comments in the Cell\n",
    "              \n",
    "                        "
   ]
  },
  {
   "cell_type": "markdown",
   "id": "70b0ef5a-0be7-4665-b358-9fd53245fb97",
   "metadata": {},
   "source": [
    "## Author\n",
    "Mourad El azhari"
   ]
  }
 ],
 "metadata": {
  "kernelspec": {
   "display_name": "Python 3 (ipykernel)",
   "language": "python",
   "name": "python3"
  },
  "language_info": {
   "codemirror_mode": {
    "name": "ipython",
    "version": 3
   },
   "file_extension": ".py",
   "mimetype": "text/x-python",
   "name": "python",
   "nbconvert_exporter": "python",
   "pygments_lexer": "ipython3",
   "version": "3.11.4"
  }
 },
 "nbformat": 4,
 "nbformat_minor": 5
}
